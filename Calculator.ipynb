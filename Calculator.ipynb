{
 "cells": [
  {
   "cell_type": "code",
   "execution_count": 7,
   "id": "ac2a9082-1d98-4ba8-80d9-dae636afba09",
   "metadata": {},
   "outputs": [
    {
     "name": "stdin",
     "output_type": "stream",
     "text": [
      "Enter first number:  5\n",
      "Enter operator: (+,-,*,/,%) %\n",
      "Enter second number:  4\n"
     ]
    },
    {
     "name": "stdout",
     "output_type": "stream",
     "text": [
      "Modulus output is:  1\n"
     ]
    }
   ],
   "source": [
    "first = input(\"Enter first number: \")\n",
    "operator = input(\"Enter operator: (+,-,*,/,%)\")\n",
    "second = input(\"Enter second number: \")\n",
    "\n",
    "first = int(first)\n",
    "second = int(second)\n",
    "if operator == \"+\":\n",
    "    print(\"Addition output is: \", first + second)\n",
    "elif operator == \"-\":\n",
    "    print(\"Subtraction output is: \", first - second)\n",
    "elif operator == \"*\":\n",
    "    print(\"Multiplication output is: \", first * second)\n",
    "elif operator == \"/\":\n",
    "    print(\"Division output is: \", first / second)\n",
    "elif operator == \"%\":\n",
    "    print(\"Modulus output is: \", first % second)\n",
    "else:\n",
    "    print(\"Invalid operator\")\n",
    "\n"
   ]
  }
 ],
 "metadata": {
  "kernelspec": {
   "display_name": "Python 3 (ipykernel)",
   "language": "python",
   "name": "python3"
  },
  "language_info": {
   "codemirror_mode": {
    "name": "ipython",
    "version": 3
   },
   "file_extension": ".py",
   "mimetype": "text/x-python",
   "name": "python",
   "nbconvert_exporter": "python",
   "pygments_lexer": "ipython3",
   "version": "3.12.4"
  }
 },
 "nbformat": 4,
 "nbformat_minor": 5
}
